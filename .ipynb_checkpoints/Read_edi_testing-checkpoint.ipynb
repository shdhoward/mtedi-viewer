{
 "cells": [
  {
   "cell_type": "code",
   "execution_count": 45,
   "metadata": {},
   "outputs": [],
   "source": [
    "## https://github.com/MTgeophysics/mtpy/blob/develop/examples/workshop/Workshop%20Exercises%20Core.ipynb"
   ]
  },
  {
   "cell_type": "code",
   "execution_count": 46,
   "metadata": {},
   "outputs": [],
   "source": [
    "# import required modules\n",
    "from mtpy.core.mt import MT\n",
    "import os"
   ]
  },
  {
   "cell_type": "markdown",
   "metadata": {},
   "source": [
    "#### Using an MT object"
   ]
  },
  {
   "cell_type": "code",
   "execution_count": 47,
   "metadata": {},
   "outputs": [],
   "source": [
    "# Read an edi file into an MT object¶\n",
    "# The mt_obj contains all the data from the edi file, \n",
    "# e.g. impedance, tipper, frequency as well as station information (lat/long). \n",
    "\n",
    "# Define the path to your edi file\n",
    "edi_file = \"LAV01A.edi\"\n",
    "\n",
    "# Create an MT object\n",
    "mt_obj = MT(edi_file)"
   ]
  },
  {
   "cell_type": "code",
   "execution_count": 51,
   "metadata": {},
   "outputs": [
    {
     "name": "stdout",
     "output_type": "stream",
     "text": [
      "LAV01A -28.84263888888889 124.50780555555555 338.0\n"
     ]
    }
   ],
   "source": [
    "# To look at any of these parameters:\n",
    "print (mt_obj.station, mt_obj.lat, mt_obj.lon, mt_obj.elev)"
   ]
  },
  {
   "cell_type": "code",
   "execution_count": 64,
   "metadata": {},
   "outputs": [
    {
     "name": "stdout",
     "output_type": "stream",
     "text": [
      "[3.200001e+02 2.650000e+02 2.290000e+02 1.940000e+02 1.590000e+02\n",
      " 1.320000e+02 1.150000e+02 9.699999e+01 7.900001e+01 6.600000e+01\n",
      " 5.700000e+01 4.900000e+01 4.000000e+01 3.300000e+01 2.750000e+01\n",
      " 2.250000e+01 1.880000e+01 1.620000e+01 1.370000e+01 1.120000e+01\n",
      " 9.400000e+00 8.100000e+00 6.900000e+00 5.600000e+00 4.700000e+00\n",
      " 4.100000e+00 3.400000e+00 2.810000e+00 2.340000e+00 2.030000e+00\n",
      " 1.720000e+00 1.410000e+00 1.170000e+00 1.020000e+00 8.600000e-01\n",
      " 7.000000e-01 5.900000e-01 5.100000e-01 4.300000e-01 3.500000e-01\n",
      " 2.930000e-01 2.540000e-01 2.150000e-01 1.760000e-01 1.460000e-01\n",
      " 1.270000e-01 1.070000e-01 8.800000e-02 7.300000e-02 6.300001e-02\n",
      " 5.400000e-02 4.400000e-02 3.700000e-02 3.200000e-02 2.690000e-02\n",
      " 2.200000e-02 1.830000e-02 1.590000e-02 1.340000e-02 1.100000e-02\n",
      " 9.199999e-03 7.900001e-03 6.700001e-03 5.500000e-03 4.600001e-03\n",
      " 4.000001e-03 3.400000e-03 2.750000e-03 2.290000e-03 1.980000e-03\n",
      " 1.680000e-03 1.370000e-03 1.140000e-03 9.900002e-04 8.399999e-04\n",
      " 6.900000e-04 5.700000e-04 5.000001e-04 4.200000e-04 3.400000e-04]\n"
     ]
    }
   ],
   "source": [
    "#  frequency values represented in the impedance tensor:\n",
    "print (mt_obj.Z.freq)"
   ]
  },
  {
   "cell_type": "code",
   "execution_count": 62,
   "metadata": {},
   "outputs": [
    {
     "name": "stdout",
     "output_type": "stream",
     "text": [
      "[[[  1.032746  +2.832259j   21.62675  +38.12355j  ]\n",
      "  [-18.10679  -31.21486j    -1.912309  -1.451626j ]]\n",
      "\n",
      " [[  0.3084295 +2.257987j   19.13527  +34.61301j  ]\n",
      "  [-16.93445  -29.33341j    -1.505684  -0.9934247j]]\n",
      "\n",
      " [[  1.197007  +1.489139j   17.85324  +31.73587j  ]\n",
      "  [-17.159    -27.15904j    -1.107539  -0.5075806j]]\n",
      "\n",
      " [[  0.7133126 +1.541481j   16.24153  +28.68697j  ]\n",
      "  [-15.21172  -25.00196j    -0.995975  -0.7407705j]]]\n"
     ]
    }
   ],
   "source": [
    "# the impedance tensor (first 4 elements)\n",
    "print (mt_obj.Z.z[:4])"
   ]
  },
  {
   "cell_type": "code",
   "execution_count": null,
   "metadata": {},
   "outputs": [],
   "source": []
  },
  {
   "cell_type": "markdown",
   "metadata": {},
   "source": [
    "#### Using mtpy.core.edi "
   ]
  },
  {
   "cell_type": "code",
   "execution_count": 52,
   "metadata": {},
   "outputs": [],
   "source": [
    "import mtpy.core.edi as MTedi"
   ]
  },
  {
   "cell_type": "code",
   "execution_count": 5,
   "metadata": {},
   "outputs": [],
   "source": [
    "# from pylab import *"
   ]
  },
  {
   "cell_type": "code",
   "execution_count": 53,
   "metadata": {},
   "outputs": [
    {
     "name": "stdout",
     "output_type": "stream",
     "text": [
      "LAV01A -28.84263888888889 124.50780555555555 338.0\n"
     ]
    }
   ],
   "source": [
    "edi = MTedi.Edi(edi_fn=r'LAV01A.edi')\n",
    "\n",
    "id =  edi.Header.dataid\n",
    "lon = edi.Header.lon\n",
    "lat = edi.Header.lat\n",
    "elev = edi.Header.elev\n",
    "print (id, lat, lon, elev)\n",
    "\n",
    "\n"
   ]
  },
  {
   "cell_type": "code",
   "execution_count": 19,
   "metadata": {},
   "outputs": [
    {
     "name": "stdout",
     "output_type": "stream",
     "text": [
      "<mtpy.core.edi.Edi object at 0x000001BA87535C88>\n"
     ]
    }
   ],
   "source": [
    "print (edi)"
   ]
  },
  {
   "cell_type": "code",
   "execution_count": null,
   "metadata": {},
   "outputs": [],
   "source": []
  }
 ],
 "metadata": {
  "kernelspec": {
   "display_name": "Python 3",
   "language": "python",
   "name": "python3"
  },
  "language_info": {
   "codemirror_mode": {
    "name": "ipython",
    "version": 3
   },
   "file_extension": ".py",
   "mimetype": "text/x-python",
   "name": "python",
   "nbconvert_exporter": "python",
   "pygments_lexer": "ipython3",
   "version": "3.7.6"
  }
 },
 "nbformat": 4,
 "nbformat_minor": 4
}
