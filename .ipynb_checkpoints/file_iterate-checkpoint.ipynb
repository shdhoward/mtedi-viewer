{
 "cells": [
  {
   "cell_type": "code",
   "execution_count": null,
   "metadata": {},
   "outputs": [],
   "source": [
    "## http://carrefax.com/new-blog/2017/1/16/draft"
   ]
  },
  {
   "cell_type": "code",
   "execution_count": null,
   "metadata": {},
   "outputs": [],
   "source": [
    "import os\n",
    "import csv\n",
    "import pandas as pd\n",
    "from mtpy.core.mt import MT\n"
   ]
  },
  {
   "cell_type": "code",
   "execution_count": 67,
   "metadata": {},
   "outputs": [
    {
     "name": "stdout",
     "output_type": "stream",
     "text": [
      "E:\\WFH_April_2020\\Downloads\\LAV_EDIs\\LAV_EDIs_ll.csv\n"
     ]
    }
   ],
   "source": [
    "path = r'E:\\WFH_April_2020\\Downloads\\LAV_EDIs'\n",
    "dir = os.path.basename(path)\n",
    "csvfile = os.path.join (path,dir +'_ll.csv')\n",
    "\n",
    "if os.path.exists(csvfile):\n",
    "      os.remove(csvfile)\n",
    "\n",
    "# print(dir)\n",
    "# print(os.listdir(directory))\n",
    "print(csvfile)"
   ]
  },
  {
   "cell_type": "code",
   "execution_count": 68,
   "metadata": {},
   "outputs": [],
   "source": [
    "csvhead = ['station', 'longitude', 'latitude', 'elevation', 'startdate']\n",
    "with open (csvfile,'a', newline='') as fp:\n",
    "    wr = csv.writer(fp)\n",
    "    wr.writerow(csvhead)\n",
    "    \n",
    "    for file in os.listdir(path):\n",
    "        if file.endswith('.edi'):\n",
    "            myfile = os.path.join(path, file)\n",
    "#             print (myfile)\n",
    "#             mtobj = MT(os.path.join(path, file))\n",
    "            mtobj = MT(myfile)\n",
    "            csvrow = [mtobj.station, mtobj.lon, mtobj.lat, mtobj.elev, mtobj.Site.start_date]\n",
    "            wr.writerow(csvrow)\n",
    "        else:\n",
    "            continue\n",
    "    \n",
    "    "
   ]
  },
  {
   "cell_type": "code",
   "execution_count": null,
   "metadata": {},
   "outputs": [],
   "source": [
    "\n",
    "\n",
    "for file in os.listdir(path):\n",
    "    if filename.endswith('.edi'):\n",
    "        mtobj = MT(os.path.join(path, file))\n",
    "#         print (mtobj.station, mtobj.lat, mtobj.lon, mtobj.elev, mtobj.Site.start_date)\n",
    "        csvrow = [mtobj.station, mtobj.lon, mtobj.lat, mtobj.elev, mtobj.Site.start_date]\n",
    "        print(csvrow)\n",
    "\n",
    "    else:\n",
    "        continue"
   ]
  },
  {
   "cell_type": "code",
   "execution_count": null,
   "metadata": {},
   "outputs": [],
   "source": []
  },
  {
   "cell_type": "code",
   "execution_count": null,
   "metadata": {},
   "outputs": [],
   "source": [
    "outputFile = os.join(dir, PSD.csv'\n",
    "\n",
    "if os.path.exists(outputFile):\n",
    "  os.remove(outputFile)"
   ]
  },
  {
   "cell_type": "code",
   "execution_count": null,
   "metadata": {},
   "outputs": [],
   "source": []
  },
  {
   "cell_type": "code",
   "execution_count": null,
   "metadata": {},
   "outputs": [],
   "source": []
  }
 ],
 "metadata": {
  "kernelspec": {
   "display_name": "Python 3",
   "language": "python",
   "name": "python3"
  },
  "language_info": {
   "codemirror_mode": {
    "name": "ipython",
    "version": 3
   },
   "file_extension": ".py",
   "mimetype": "text/x-python",
   "name": "python",
   "nbconvert_exporter": "python",
   "pygments_lexer": "ipython3",
   "version": "3.7.6"
  }
 },
 "nbformat": 4,
 "nbformat_minor": 4
}
