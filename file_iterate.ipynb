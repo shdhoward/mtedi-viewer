{
 "cells": [
  {
   "cell_type": "code",
   "execution_count": null,
   "metadata": {},
   "outputs": [],
   "source": [
    "## http://carrefax.com/new-blog/2017/1/16/draft"
   ]
  },
  {
   "cell_type": "code",
   "execution_count": 59,
   "metadata": {},
   "outputs": [],
   "source": [
    "import os\n",
    "import sys\n",
    "import csv\n",
    "import pandas as pd\n",
    "from mtpy.core.mt import MT\n"
   ]
  },
  {
   "cell_type": "markdown",
   "metadata": {},
   "source": [
    "#### set paths etc (TODO: do via UI)"
   ]
  },
  {
   "cell_type": "code",
   "execution_count": 76,
   "metadata": {},
   "outputs": [
    {
     "name": "stdout",
     "output_type": "stream",
     "text": [
      "C:\\GSWA_WFH_April_2020\\MT_compilation\\Yeneena MT\\Appendix III - Final Data (EDI Curves)\\ARIA\\PhoenixEDIs\\ARIA_EXT\\merged\\merged_ll.csv\n"
     ]
    }
   ],
   "source": [
    "path = r'C:\\GSWA_WFH_April_2020\\MT_compilation\\Yeneena MT\\Appendix III - Final Data (EDI Curves)\\ARIA\\PhoenixEDIs\\ARIA_EXT\\merged'\n",
    "dir = os.path.basename(path)\n",
    "csvfile = os.path.join (path,dir +'_ll.csv')\n",
    "\n",
    "if os.path.exists(csvfile):\n",
    "      os.remove(csvfile)\n",
    "\n",
    "# print(dir)\n",
    "# print(os.listdir(directory))\n",
    "print(csvfile)"
   ]
  },
  {
   "cell_type": "markdown",
   "metadata": {},
   "source": [
    "#### Get locations from edi files and write to csv"
   ]
  },
  {
   "cell_type": "code",
   "execution_count": 77,
   "metadata": {
    "scrolled": false
   },
   "outputs": [
    {
     "name": "stdout",
     "output_type": "stream",
     "text": [
      "OK file  1  --  ARI1001A.edi\n",
      "OK file  2  --  ARI1001M.edi\n",
      "OK file  3  --  ARI1005A.edi\n",
      "OK file  4  --  ARI1005M.edi\n",
      "OK file  5  --  ARI1006A.edi\n",
      "OK file  6  --  ARI1006M.edi\n",
      "OK file  7  --  ARI1008A.edi\n",
      "OK file  8  --  ARI1008M.edi\n",
      "OK file  9  --  ARI1009A.edi\n",
      "OK file  10  --  ARI1009M.edi\n"
     ]
    },
    {
     "name": "stderr",
     "output_type": "stream",
     "text": [
      "C:\\Users\\shdho\\Anaconda3\\lib\\site-packages\\mtpy\\core\\edi.py:471: RuntimeWarning: invalid value encountered in sqrt\n",
      "  z_err_arr[kk, 0, 0] = np.sqrt(scaling * s_arr[cc.hy, cc.hy].real)\n",
      "C:\\Users\\shdho\\Anaconda3\\lib\\site-packages\\mtpy\\core\\edi.py:472: RuntimeWarning: invalid value encountered in sqrt\n",
      "  z_err_arr[kk, 0, 1] = np.sqrt(scaling * s_arr[cc.hx, cc.hx].real)\n"
     ]
    },
    {
     "name": "stdout",
     "output_type": "stream",
     "text": [
      "OK file  11  --  ARI1011A.edi\n",
      "OK file  12  --  ARI1011M.edi\n",
      "OK file  13  --  ARI1012A.edi\n",
      "OK file  14  --  ARI1012M.edi\n",
      "OK file  15  --  ARI1013A.edi\n",
      "OK file  16  --  ARI1013M.edi\n",
      "OK file  17  --  ARI1014A.edi\n",
      "OK file  18  --  ARI1014M.edi\n",
      "skip file -  merged_ll.csv\n",
      "done,  18  files\n"
     ]
    }
   ],
   "source": [
    "csvhead = ['filename','station', 'longitude', 'latitude', 'elevation', 'startdate']\n",
    "with open (csvfile,'a', newline='') as fp:\n",
    "    wr = csv.writer(fp)\n",
    "    wr.writerow(csvhead)\n",
    "    count= 0\n",
    "    \n",
    "    for file in os.listdir(path):\n",
    "        if file.endswith('.edi'):\n",
    "            myfile = os.path.join(path, file)\n",
    "            mtobj = MT(myfile)\n",
    "            try:\n",
    "                csvrow = [file, mtobj.station, mtobj.lon, mtobj.lat, mtobj.elev, mtobj.Site.start_date]\n",
    "                wr.writerow(csvrow)\n",
    "                count = count+1\n",
    "                print('OK file ',count, ' -- ', file)\n",
    "            except:\n",
    "                print('error - file ', file, ' Unexpected error: ', sys.exc_info()[0])\n",
    "                continue\n",
    "        else:\n",
    "            print('skip file - ', file)\n",
    "            continue\n",
    "    \n",
    "print('done, ', count, ' files')"
   ]
  },
  {
   "cell_type": "code",
   "execution_count": null,
   "metadata": {},
   "outputs": [],
   "source": []
  }
 ],
 "metadata": {
  "kernelspec": {
   "display_name": "Python 3",
   "language": "python",
   "name": "python3"
  },
  "language_info": {
   "codemirror_mode": {
    "name": "ipython",
    "version": 3
   },
   "file_extension": ".py",
   "mimetype": "text/x-python",
   "name": "python",
   "nbconvert_exporter": "python",
   "pygments_lexer": "ipython3",
   "version": "3.7.6"
  }
 },
 "nbformat": 4,
 "nbformat_minor": 4
}
